{
 "cells": [
  {
   "cell_type": "code",
   "execution_count": 2,
   "metadata": {},
   "outputs": [],
   "source": [
    "# import statements\n",
    "import pandas as pd\n",
    "from datetime import time\n",
    "import numpy as np"
   ]
  },
  {
   "cell_type": "code",
   "execution_count": 3,
   "metadata": {},
   "outputs": [],
   "source": [
    "# defining data for each csv file\n",
    "patient_info=pd.read_csv('AsthmaFiles/patient_info.csv')\n",
    "smartwatch1=pd.read_csv('AsthmaFiles/smartwatch1.csv')\n",
    "smartwatch2=pd.read_csv('AsthmaFiles/smartwatch2.csv')\n",
    "smartwatch3=pd.read_csv('AsthmaFiles/smartwatch3.csv')"
   ]
  },
  {
   "cell_type": "code",
   "execution_count": null,
   "metadata": {},
   "outputs": [],
   "source": []
  },
  {
   "cell_type": "code",
   "execution_count": 4,
   "metadata": {},
   "outputs": [
    {
     "data": {
      "text/plain": [
       "[190.0, 294.0, 343.0, 447.0, 473.0, 514.0, 625.0, 702.0, 808.0, 939.0]"
      ]
     },
     "execution_count": 4,
     "metadata": {},
     "output_type": "execute_result"
    }
   ],
   "source": [
    "#holds the list of user keys\n",
    "list_of_user_keys=[]\n",
    "#Cleaning data by removing patients with insignificant data\n",
    "for x in patient_info[[\"user_key\"]+list(patient_info)[-10:-2]].iterrows():\n",
    "    if x[1][\"pef_end_date\"] - x[1][\"pef_start_date\"] >= 50 and x[1][\"miband_end_date\"]!=\"NaN\":\n",
    "        # if user fits significant data criteria, add user key to list\n",
    "        list_of_user_keys.append(x[1][\"user_key\"])\n",
    "list_of_user_keys"
   ]
  },
  {
   "cell_type": "code",
   "execution_count": 5,
   "metadata": {},
   "outputs": [],
   "source": [
    "#Gets peakflow data related to user key\n",
    "def get_peakflow_data(user_key):\n",
    "    peakflow_data = pd.read_csv(\"AsthmaFiles/peakflow.csv\")\n",
    "    peakflow_data = peakflow_data[peakflow_data[\"user_key\"]==user_key]\n",
    "    peakflow_data = peakflow_data[[\"date\",\"hour\",\"pef_max\"]]\n",
    "    return peakflow_data\n"
   ]
  },
  {
   "cell_type": "code",
   "execution_count": 6,
   "metadata": {},
   "outputs": [],
   "source": [
    "#Gets Enviornmental data related to user key and dates their peakflow was recorded\n",
    "def pair_weather(id,dates):\n",
    "    weather = pd.read_csv(\"AsthmaFiles/environment.csv\")\n",
    "    for_id = weather.loc[weather['user_key'] == id]\n",
    "    weather = for_id.loc[for_id['date'].isin(dates)]\n",
    "\n",
    "    return weather"
   ]
  },
  {
   "cell_type": "code",
   "execution_count": null,
   "metadata": {},
   "outputs": [],
   "source": []
  },
  {
   "cell_type": "code",
   "execution_count": 7,
   "metadata": {},
   "outputs": [],
   "source": [
    "#try_catch to ensure no index errors crash the program and when they did a default value will be returned\n",
    "def try_catch(row,default,weather,x):\n",
    "    try:\n",
    "        return weather.loc[weather['date'] == row[\"date\"]].iloc[0][x]\n",
    "    except IndexError:\n",
    "        return default"
   ]
  },
  {
   "cell_type": "code",
   "execution_count": 8,
   "metadata": {},
   "outputs": [],
   "source": [
    "#sepereates data for each user key among the 3 smartwatch files (sorting through 2.5 million datapoints is why it takes a while)\n",
    "def seperate_for_key(user_key,smartwatch1,smartwatch2,smartwatch3):\n",
    "    seperate_for_key1 = smartwatch1.loc[smartwatch1[\"user_key\"]==user_key][[\"date\",\"time\",\"hr\"]]\n",
    "    seperate_for_key2 = smartwatch2.loc[smartwatch2[\"user_key\"]==user_key][[\"date\",\"time\",\"hr\"]]\n",
    "    seperate_for_key3 = smartwatch3.loc[smartwatch3[\"user_key\"]==user_key][[\"date\",\"time\",\"hr\"]]\n",
    "    frames = [seperate_for_key1, seperate_for_key2, seperate_for_key3]\n",
    "    return pd.concat(frames)\n",
    "\n",
    "#Parses through data for specific date given\n",
    "def seperate_for_date(date,seperate_for_key):\n",
    "    return seperate_for_key.loc[seperate_for_key[\"date\"]==date][[\"time\",\"hr\"]]\n",
    "\n",
    "#parse through data for specific time given\n",
    "def seperate_for_time(time,seperate_for_date):\n",
    "    if len(str(time)) == 1:\n",
    "        time = \"0\" + str(time)\n",
    "    return seperate_for_date.loc[seperate_for_date[\"time\"].str.startswith(str(time))][\"hr\"].max()\n",
    "\n",
    "#lambda method to be used in apply method that will set the value of rows in the peakflow dataframe based on date and time ranges\n",
    "def lambda_method(row,key,sm1,sm2,sm3):\n",
    "    sk = seperate_for_key(key,sm1,sm2,sm3)\n",
    "    sd = seperate_for_date(row[\"date\"],sk)\n",
    "    return seperate_for_time(row[\"hour\"],sd)\n",
    "\n"
   ]
  },
  {
   "cell_type": "code",
   "execution_count": 9,
   "metadata": {},
   "outputs": [],
   "source": [
    "# default value is set to NA or empty in other words\n",
    "default = \"NA\"\n",
    "# traverse through all viable users\n",
    "for i in list_of_user_keys:\n",
    "    # gets peak flow data for user\n",
    "    peak_flow_data = get_peakflow_data(i)\n",
    "    # pairs weather data for user based on dates peak flow was recorded\n",
    "    weather = pair_weather(i,peak_flow_data[\"date\"])\n",
    "    # adds weather data to peak flow data\n",
    "    for x in list(weather.columns):\n",
    "        #skips repeating columns\n",
    "        if x not in peak_flow_data.columns:\n",
    "            # appends rows to peak flow data\n",
    "            peak_flow_data[x] = peak_flow_data.apply(lambda row: try_catch(row,default,weather,x), axis = 1)\n",
    "    # adds heart rate data to peak flow data\n",
    "    peak_flow_data[\"hr\"] = peak_flow_data.apply(lambda row: lambda_method(row,i,smartwatch1,smartwatch2,smartwatch3), axis = 1)\n",
    "    # saves data to csv file according to user key\n",
    "    peak_flow_data.to_csv(f\"AsthmaFiles/{int(i)}.csv\",index=False)"
   ]
  },
  {
   "cell_type": "code",
   "execution_count": 10,
   "metadata": {},
   "outputs": [],
   "source": [
    "# cleans data by removing rows with NaN values\n",
    "def clean_dataset(df):\n",
    "    assert isinstance(df, pd.DataFrame), \"df needs to be a pd.DataFrame\"\n",
    "    df.dropna(inplace=True)\n",
    "    indices_to_keep = ~df.isin([np.nan, np.inf, -np.inf]).any(axis=1)\n",
    "    return df[indices_to_keep].astype(np.float64)\n",
    "\n",
    "# reads all csv files and merges them into one to parse through\n",
    "def read_all_and_merge():\n",
    "    x = pd.DataFrame()\n",
    "    for i in list_of_user_keys:\n",
    "        user_info= pd.read_csv(f\"AsthmaFiles/patient_info.csv\")\n",
    "        dataset = pd.read_csv(f\"AsthmaFiles/{int(i)}.csv\")\n",
    "        dataset = dataset.drop([\"weed_pollen\",\"tree_pollen\",\"grass_pollen\"],axis=1)\n",
    "        dataset = clean_dataset(dataset)\n",
    "        ex_for_user = user_info.loc[user_info[\"user_key\"]==i][\"max_pef_expected\"].iloc[0]\n",
    "        max_for_user = dataset[\"pef_max\"].max()\n",
    "        dataset[\"pef_max\"] = dataset[\"pef_max\"].apply(lambda x: x/int(ex_for_user))\n",
    "        dataset = dataset.drop([\"date\",\"user_key\",\"no\"],axis=1)\n",
    "        x = pd.concat([x,dataset])\n",
    "\n",
    "    return x\n",
    "\n",
    "# saves merged data to csv file\n",
    "x = read_all_and_merge()\n",
    "x.to_csv(\"AsthmaFiles/merged.csv\",index=False)\n",
    "y = x[\"pef_max\"]\n",
    "x = x.drop([\"pef_max\"],axis=1)\n"
   ]
  },
  {
   "cell_type": "code",
   "execution_count": 11,
   "metadata": {},
   "outputs": [
    {
     "name": "stdout",
     "output_type": "stream",
     "text": [
      "4\n",
      "0.32020797938095946\n",
      "0.020879608675146183\n"
     ]
    }
   ],
   "source": [
    "from sklearn.model_selection import train_test_split\n",
    "from sklearn.linear_model import LinearRegression\n",
    "count = 0\n",
    "sum=0\n",
    "rmsesum=0\n",
    "for i in range(0,1000):\n",
    "    x_train, x_test, y_train, y_test = train_test_split(x,y, test_size=0.3, random_state=i)\n",
    "    model = LinearRegression()\n",
    "    model.fit(x_train,y_train)\n",
    "    y_pred = model.predict(x_test)\n",
    "    from sklearn.metrics import mean_absolute_error, mean_squared_error, r2_score\n",
    "\n",
    "    # Assuming you have y_pred and y_test as NumPy arrays or Pandas Series\n",
    "    mae = mean_absolute_error(y_test, y_pred)\n",
    "    mse = mean_squared_error(y_test, y_pred)\n",
    "    rmse = np.sqrt(mse)\n",
    "    r2 = r2_score(y_test, y_pred)\n",
    "\n",
    "    # print(f'Mean Absolute Error: {mae}')\n",
    "    # print(f'Mean Squared Error: {mse}')\n",
    "    # print(f'Root Mean Squared Error: {rmse}')\n",
    "    if r2 > .4:\n",
    "        count+=1\n",
    "    sum+=r2\n",
    "    rmsesum+=mse\n",
    "    # print(f'R-squared (R^2) Score: {r2}')\n",
    "print(count)\n",
    "print(sum/1000)\n",
    "print(rmsesum/1000)\n",
    "\n"
   ]
  },
  {
   "cell_type": "code",
   "execution_count": 12,
   "metadata": {},
   "outputs": [
    {
     "data": {
      "text/html": [
       "<style>#sk-container-id-1 {color: black;}#sk-container-id-1 pre{padding: 0;}#sk-container-id-1 div.sk-toggleable {background-color: white;}#sk-container-id-1 label.sk-toggleable__label {cursor: pointer;display: block;width: 100%;margin-bottom: 0;padding: 0.3em;box-sizing: border-box;text-align: center;}#sk-container-id-1 label.sk-toggleable__label-arrow:before {content: \"▸\";float: left;margin-right: 0.25em;color: #696969;}#sk-container-id-1 label.sk-toggleable__label-arrow:hover:before {color: black;}#sk-container-id-1 div.sk-estimator:hover label.sk-toggleable__label-arrow:before {color: black;}#sk-container-id-1 div.sk-toggleable__content {max-height: 0;max-width: 0;overflow: hidden;text-align: left;background-color: #f0f8ff;}#sk-container-id-1 div.sk-toggleable__content pre {margin: 0.2em;color: black;border-radius: 0.25em;background-color: #f0f8ff;}#sk-container-id-1 input.sk-toggleable__control:checked~div.sk-toggleable__content {max-height: 200px;max-width: 100%;overflow: auto;}#sk-container-id-1 input.sk-toggleable__control:checked~label.sk-toggleable__label-arrow:before {content: \"▾\";}#sk-container-id-1 div.sk-estimator input.sk-toggleable__control:checked~label.sk-toggleable__label {background-color: #d4ebff;}#sk-container-id-1 div.sk-label input.sk-toggleable__control:checked~label.sk-toggleable__label {background-color: #d4ebff;}#sk-container-id-1 input.sk-hidden--visually {border: 0;clip: rect(1px 1px 1px 1px);clip: rect(1px, 1px, 1px, 1px);height: 1px;margin: -1px;overflow: hidden;padding: 0;position: absolute;width: 1px;}#sk-container-id-1 div.sk-estimator {font-family: monospace;background-color: #f0f8ff;border: 1px dotted black;border-radius: 0.25em;box-sizing: border-box;margin-bottom: 0.5em;}#sk-container-id-1 div.sk-estimator:hover {background-color: #d4ebff;}#sk-container-id-1 div.sk-parallel-item::after {content: \"\";width: 100%;border-bottom: 1px solid gray;flex-grow: 1;}#sk-container-id-1 div.sk-label:hover label.sk-toggleable__label {background-color: #d4ebff;}#sk-container-id-1 div.sk-serial::before {content: \"\";position: absolute;border-left: 1px solid gray;box-sizing: border-box;top: 0;bottom: 0;left: 50%;z-index: 0;}#sk-container-id-1 div.sk-serial {display: flex;flex-direction: column;align-items: center;background-color: white;padding-right: 0.2em;padding-left: 0.2em;position: relative;}#sk-container-id-1 div.sk-item {position: relative;z-index: 1;}#sk-container-id-1 div.sk-parallel {display: flex;align-items: stretch;justify-content: center;background-color: white;position: relative;}#sk-container-id-1 div.sk-item::before, #sk-container-id-1 div.sk-parallel-item::before {content: \"\";position: absolute;border-left: 1px solid gray;box-sizing: border-box;top: 0;bottom: 0;left: 50%;z-index: -1;}#sk-container-id-1 div.sk-parallel-item {display: flex;flex-direction: column;z-index: 1;position: relative;background-color: white;}#sk-container-id-1 div.sk-parallel-item:first-child::after {align-self: flex-end;width: 50%;}#sk-container-id-1 div.sk-parallel-item:last-child::after {align-self: flex-start;width: 50%;}#sk-container-id-1 div.sk-parallel-item:only-child::after {width: 0;}#sk-container-id-1 div.sk-dashed-wrapped {border: 1px dashed gray;margin: 0 0.4em 0.5em 0.4em;box-sizing: border-box;padding-bottom: 0.4em;background-color: white;}#sk-container-id-1 div.sk-label label {font-family: monospace;font-weight: bold;display: inline-block;line-height: 1.2em;}#sk-container-id-1 div.sk-label-container {text-align: center;}#sk-container-id-1 div.sk-container {/* jupyter's `normalize.less` sets `[hidden] { display: none; }` but bootstrap.min.css set `[hidden] { display: none !important; }` so we also need the `!important` here to be able to override the default hidden behavior on the sphinx rendered scikit-learn.org. See: https://github.com/scikit-learn/scikit-learn/issues/21755 */display: inline-block !important;position: relative;}#sk-container-id-1 div.sk-text-repr-fallback {display: none;}</style><div id=\"sk-container-id-1\" class=\"sk-top-container\"><div class=\"sk-text-repr-fallback\"><pre>LinearRegression()</pre><b>In a Jupyter environment, please rerun this cell to show the HTML representation or trust the notebook. <br />On GitHub, the HTML representation is unable to render, please try loading this page with nbviewer.org.</b></div><div class=\"sk-container\" hidden><div class=\"sk-item\"><div class=\"sk-estimator sk-toggleable\"><input class=\"sk-toggleable__control sk-hidden--visually\" id=\"sk-estimator-id-1\" type=\"checkbox\" checked><label for=\"sk-estimator-id-1\" class=\"sk-toggleable__label sk-toggleable__label-arrow\">LinearRegression</label><div class=\"sk-toggleable__content\"><pre>LinearRegression()</pre></div></div></div></div></div>"
      ],
      "text/plain": [
       "LinearRegression()"
      ]
     },
     "execution_count": 12,
     "metadata": {},
     "output_type": "execute_result"
    }
   ],
   "source": [
    "from sklearn.linear_model import LinearRegression\n",
    "model = LinearRegression()\n",
    "model.fit(x_train,y_train)\n"
   ]
  },
  {
   "cell_type": "code",
   "execution_count": 13,
   "metadata": {},
   "outputs": [
    {
     "data": {
      "text/plain": [
       "array([0.61762476, 0.80302619, 0.62527852, 0.77320301, 0.76113626,\n",
       "       0.74229623, 0.83859294, 0.6779068 , 0.71968808, 0.83048583,\n",
       "       0.79876329, 0.77564022, 0.71726375, 0.83573965, 0.64811305,\n",
       "       0.71433108, 0.90764788, 0.7790809 , 0.69204145, 0.91870132,\n",
       "       0.70692195, 0.66134942, 0.89732907, 0.90031403, 0.73853525,\n",
       "       0.79903315, 0.96511499, 0.73331631, 0.82178252, 0.65385588,\n",
       "       0.97809578, 0.86642223, 0.80721661, 0.68548559, 0.68239394,\n",
       "       0.5982147 , 0.60904087, 0.86967792, 0.82042763, 0.68382233,\n",
       "       0.79955133, 0.80627298, 0.8626572 , 0.58488416, 0.84766703,\n",
       "       0.70057144, 0.69062053, 0.8377277 , 1.07266012, 0.83716335,\n",
       "       0.89631097, 0.692477  , 0.68034572, 0.83359794, 0.88670702,\n",
       "       0.64945643, 0.75115092, 0.73624341, 0.78669263, 0.84295113,\n",
       "       0.72941212, 0.65682314, 0.88679725, 0.78611866, 0.61335294,\n",
       "       0.72776422, 0.72522248, 0.68003229, 0.77825202, 0.94448613,\n",
       "       0.64139709, 0.82756546, 0.70547824, 0.92128168, 0.62376906,\n",
       "       0.78398389, 0.75186296, 0.74743594, 0.71319214, 0.78036834,\n",
       "       0.75363336, 0.5874699 , 0.77762328, 0.58117868, 0.87683819,\n",
       "       0.61412188, 0.63983505, 0.94527061, 0.52637143, 0.49916901,\n",
       "       0.692723  , 0.81806188, 0.76707252, 0.83865039, 0.692833  ,\n",
       "       0.98360728, 0.79382079, 1.00150997, 0.71487652, 0.6822898 ,\n",
       "       0.596363  , 0.90227064, 0.97380573, 0.71182875, 0.67440529,\n",
       "       0.75954254, 0.80874844, 0.8178372 , 0.6595418 , 0.74519731,\n",
       "       0.63923052, 0.94193222, 1.00674346, 0.69429291, 0.69216805,\n",
       "       0.74086245, 0.85530424, 0.66166764, 0.83519965, 0.77217954,\n",
       "       0.74461581, 0.77666563, 0.67075548, 0.63772251, 0.66555297,\n",
       "       0.89677617, 0.90698402, 0.69129296, 0.77415188, 0.73501478,\n",
       "       0.96663833, 0.91154678, 0.98886096, 0.77733981, 0.65771904,\n",
       "       0.63492263, 0.79770343, 0.74509198, 0.87605177, 0.67407763,\n",
       "       0.84723764, 0.8524027 , 0.93945485, 0.87210033, 0.74458818,\n",
       "       0.80447618, 0.844936  , 0.70273214, 0.7499814 , 0.78357494,\n",
       "       0.89469067, 0.71770533, 0.78028179, 0.6560739 , 0.62952832,\n",
       "       0.61039556, 0.76522892, 0.79848057, 0.62976244, 0.73888548,\n",
       "       0.6342768 , 0.72546384, 0.62152849, 0.86446566, 0.83719375,\n",
       "       0.85364535, 0.82991134, 0.62789911, 1.056335  , 0.91903263,\n",
       "       0.7599873 , 0.89889045, 0.67475438, 0.55793696, 1.02675632,\n",
       "       0.92488067, 0.64928806, 0.67035989, 0.81113978, 0.96119436,\n",
       "       0.84526212, 0.67694454, 0.61043342, 0.59298238, 0.61417613,\n",
       "       0.77068965, 0.6459337 , 0.68361369, 0.69538037, 0.72575134,\n",
       "       0.64556339, 0.8410325 , 0.7412766 , 0.82041892, 0.74998251,\n",
       "       0.77531316, 0.81107077, 0.89168932, 0.57005057, 0.67399558,\n",
       "       0.60315729, 0.5145629 , 0.8729297 , 0.89344125, 0.87384694,\n",
       "       0.65285022, 0.74874399, 0.79281217, 0.64791529, 0.71065135,\n",
       "       0.9725962 , 0.88848226, 0.65541427, 0.7976542 , 0.75155849,\n",
       "       0.89128703, 0.71186041, 0.80102174, 0.65859564, 0.79121334,\n",
       "       0.65696693, 0.77840466, 0.66414003, 0.69584623, 0.89044165,\n",
       "       0.67355237, 0.77594985, 0.85730814, 0.70151891, 0.89203316,\n",
       "       0.59385831, 0.83377173, 0.78597534, 0.66107036, 0.81479516,\n",
       "       0.60774165, 0.61439932, 0.95636805, 0.68790332, 0.64182841,\n",
       "       0.60289194, 0.76990497, 0.842829  , 0.64862606, 0.8502188 ,\n",
       "       0.67816787, 0.75220334, 0.86560852, 0.73888163, 1.05748641,\n",
       "       0.71604902, 0.74513899, 0.6243108 , 0.65658838, 0.87634256,\n",
       "       0.84500326, 0.75604883, 0.82714402, 0.68825595, 1.02776639,\n",
       "       0.82648936, 0.78663793, 0.77079095, 0.84591497, 0.79024144,\n",
       "       0.78792354, 0.83476825, 0.74991671, 0.61842559, 0.56059334,\n",
       "       0.73992152, 0.94977431, 0.92004643, 0.89412472, 0.62162479,\n",
       "       0.66597409, 1.03627781, 0.67956988, 0.78401902, 0.75046947,\n",
       "       0.85310584, 0.88165987, 0.86588223, 0.70953345, 0.65645476,\n",
       "       0.75520166, 0.7943184 , 0.67456333, 0.82865689, 0.70152108,\n",
       "       0.71621304, 0.80661066, 0.57658771, 0.81067978, 0.78594986,\n",
       "       0.76830585, 0.88814573, 0.76663397, 0.57747174, 0.93586694,\n",
       "       0.77511678, 0.88494374, 0.90195749])"
      ]
     },
     "execution_count": 13,
     "metadata": {},
     "output_type": "execute_result"
    }
   ],
   "source": [
    "\n",
    "y_pred = model.predict(x_test)\n",
    "y_pred"
   ]
  },
  {
   "cell_type": "code",
   "execution_count": 14,
   "metadata": {},
   "outputs": [
    {
     "name": "stdout",
     "output_type": "stream",
     "text": [
      "Mean Absolute Error: 0.11665949089277951\n",
      "Mean Squared Error: 0.0197223705482071\n",
      "Root Mean Squared Error: 0.14043635764362125\n",
      "R-squared (R^2) Score: 0.3184409457841254\n"
     ]
    }
   ],
   "source": [
    "from sklearn.metrics import mean_absolute_error, mean_squared_error, r2_score\n",
    "\n",
    "# Assuming you have y_pred and y_test as NumPy arrays or Pandas Series\n",
    "mae = mean_absolute_error(y_test, y_pred)\n",
    "mse = mean_squared_error(y_test, y_pred)\n",
    "rmse = np.sqrt(mse)\n",
    "r2 = r2_score(y_test, y_pred)\n",
    "\n",
    "print(f'Mean Absolute Error: {mae}')\n",
    "print(f'Mean Squared Error: {mse}')\n",
    "print(f'Root Mean Squared Error: {rmse}')\n",
    "print(f'R-squared (R^2) Score: {r2}')\n",
    "\n"
   ]
  },
  {
   "cell_type": "code",
   "execution_count": 15,
   "metadata": {},
   "outputs": [
    {
     "data": {
      "text/plain": [
       "['asthma_model.joblib']"
      ]
     },
     "execution_count": 15,
     "metadata": {},
     "output_type": "execute_result"
    }
   ],
   "source": [
    "import joblib\n",
    "joblib.dump(model, 'asthma_model.joblib')"
   ]
  }
 ],
 "metadata": {
  "kernelspec": {
   "display_name": "Python 3.12.0 ('VEHackathon': venv)",
   "language": "python",
   "name": "python3"
  },
  "language_info": {
   "codemirror_mode": {
    "name": "ipython",
    "version": 3
   },
   "file_extension": ".py",
   "mimetype": "text/x-python",
   "name": "python",
   "nbconvert_exporter": "python",
   "pygments_lexer": "ipython3",
   "version": "3.11.5"
  },
  "vscode": {
   "interpreter": {
    "hash": "db8df081959bc2e91e29711bcf4905a783752d3f89bf8bcd5589b22205a872f6"
   }
  }
 },
 "nbformat": 4,
 "nbformat_minor": 2
}
