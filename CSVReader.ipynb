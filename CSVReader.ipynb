{
 "cells": [
  {
   "cell_type": "code",
   "execution_count": null,
   "metadata": {},
   "outputs": [],
   "source": [
    "import pandas as pd"
   ]
  },
  {
   "cell_type": "code",
   "execution_count": null,
   "metadata": {},
   "outputs": [],
   "source": [
    "patient_info=pd.read_csv('AsthmaFiles/patient_info.csv')\n",
    "patient_info"
   ]
  },
  {
   "cell_type": "code",
   "execution_count": null,
   "metadata": {},
   "outputs": [],
   "source": [
    "patient_info[[\"user_key\"]+list(patient_info)[-11:-2]]"
   ]
  },
  {
   "cell_type": "code",
   "execution_count": null,
   "metadata": {},
   "outputs": [],
   "source": [
    "list_of_user_keys=[]\n",
    "for x in patient_info[[\"user_key\"]+list(patient_info)[-10:-2]].iterrows():\n",
    "    if x[1][\"pef_end_date\"] - x[1][\"pef_start_date\"] >= 50 and x[1][\"miband_end_date\"]!=\"NaN\":\n",
    "        list_of_user_keys.append(x[1][\"user_key\"])\n",
    "list_of_user_keys"
   ]
  },
  {
   "cell_type": "code",
   "execution_count": null,
   "metadata": {},
   "outputs": [],
   "source": [
    "def get_peakflow_data(user_key):\n",
    "    peakflow_data = pd.read_csv(\"AsthmaFiles/peakflow.csv\")\n",
    "    peakflow_data = peakflow_data[peakflow_data[\"user_key\"]==user_key]\n",
    "    peakflow_data = peakflow_data[[\"date\",\"hour\",\"pef_max\"]]\n",
    "    return peakflow_data\n"
   ]
  },
  {
   "cell_type": "code",
   "execution_count": null,
   "metadata": {},
   "outputs": [],
   "source": [
    "def pair_weather(id,dates):\n",
    "    weather = pd.read_csv(\"AsthmaFiles/environment.csv\")\n",
    "    for_id = weather.loc[weather['user_key'] == id]\n",
    "    weather = for_id.loc[for_id['date'].isin(dates)]\n",
    "\n",
    "    return weather"
   ]
  },
  {
   "cell_type": "code",
   "execution_count": null,
   "metadata": {},
   "outputs": [],
   "source": [
    "peak_flow_data = get_peakflow_data(list_of_user_keys[0])\n",
    "weather = pair_weather(list_of_user_keys[0],peak_flow_data[\"date\"])\n"
   ]
  },
  {
   "cell_type": "code",
   "execution_count": null,
   "metadata": {},
   "outputs": [],
   "source": [
    "def try_catch(row,default,peak_flow_data,weather,x):\n",
    "    try:\n",
    "        return weather.loc[weather['date'] == row[\"date\"]].iloc[0][x]\n",
    "    except IndexError:\n",
    "        return default"
   ]
  },
  {
   "cell_type": "code",
   "execution_count": null,
   "metadata": {},
   "outputs": [],
   "source": [
    "default = \"NA\"\n",
    "for i in list_of_user_keys:\n",
    "    peak_flow_data = get_peakflow_data(i)\n",
    "    weather = pair_weather(i,peak_flow_data[\"date\"])\n",
    "    for x in list(weather.columns):\n",
    "        if x not in peak_flow_data.columns:\n",
    "            peak_flow_data[x] = peak_flow_data.apply(lambda row: try_catch(row,default,peak_flow_data,weather,x), axis = 1)\n",
    "    peak_flow_data.to_csv(f\"AsthmaFiles/{int(i)}.csv\",index=False)"
   ]
  },
  {
   "cell_type": "code",
   "execution_count": null,
   "metadata": {},
   "outputs": [],
   "source": []
  }
 ],
 "metadata": {
  "kernelspec": {
   "display_name": "asthma",
   "language": "python",
   "name": "python3"
  },
  "language_info": {
   "codemirror_mode": {
    "name": "ipython",
    "version": 3
   },
   "file_extension": ".py",
   "mimetype": "text/x-python",
   "name": "python",
   "nbconvert_exporter": "python",
   "pygments_lexer": "ipython3",
   "version": "3.11.5"
  }
 },
 "nbformat": 4,
 "nbformat_minor": 2
}
